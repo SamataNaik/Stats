{
 "cells": [
  {
   "cell_type": "code",
   "execution_count": 1,
   "id": "2a284108",
   "metadata": {},
   "outputs": [],
   "source": [
    "import numpy as np\n",
    "import random"
   ]
  },
  {
   "cell_type": "code",
   "execution_count": 3,
   "id": "82f3d723",
   "metadata": {},
   "outputs": [
    {
     "name": "stdout",
     "output_type": "stream",
     "text": [
      "Probability of rolling an even number or greater then 7 is:  66.71 %\n"
     ]
    }
   ],
   "source": [
    "#function of rolling a dice\n",
    "def roll_the_dice(n_simulations=100000):\n",
    "    cnt=0\n",
    "    \n",
    "#each iteration for for loop is trail\n",
    "    for i in range(n_simulations):\n",
    "        #Roll each dice\n",
    "        dice1=random.randint(1,6)\n",
    "        dice2=random.randint(1,6)\n",
    "        \n",
    "        #sum values to get the score\n",
    "        score= dice1 + dice2\n",
    "        \n",
    "        #Decide if we should add it in the count\n",
    "        \n",
    "        if((score %2==0) or (score>7)):\n",
    "            cnt+=1\n",
    "    return cnt/n_simulations\n",
    "\n",
    "string='Probability of rolling an even number or greater then 7 is: '\n",
    "print(string,np.round(roll_the_dice()*100,2),'%')"
   ]
  },
  {
   "cell_type": "code",
   "execution_count": 5,
   "id": "76443158",
   "metadata": {},
   "outputs": [
    {
     "name": "stdout",
     "output_type": "stream",
     "text": [
      "['A', 'A', 'A', 'A', 'A', 'A', 'A', 'A', 'A', 'A', 'A', 'A', 'B', 'B', 'B', 'B', 'B', 'B', 'B', 'B', 'B', 'B']\n",
      "0.2474\n"
     ]
    }
   ],
   "source": [
    "trials=10000 #total no of trails\n",
    "a=12 #total no of A transistors\n",
    "b=10 #total number of B transistors\n",
    "\n",
    "success=0 #variable keeping track of how many pulls there were\n",
    "\n",
    "choicelist=list(\"A\" * a + \"B\" * b) #list containing transistor to correct proportion\n",
    "print(choicelist)\n",
    "\n",
    "def transistor():\n",
    "    return random.choice(choicelist) #pick random transistor from list\n",
    "\n",
    "for i in range(trials):\n",
    "    try1=transistor()\n",
    "    try2=transistor()\n",
    "    \n",
    "    if try1==\"A\" and try2 ==\"B\" :#if first pull is type A and secound is type B\n",
    "        success+=1\n",
    "        \n",
    "print(float(success)/trials) #print out proportion of success\n",
    "        "
   ]
  },
  {
   "cell_type": "code",
   "execution_count": 7,
   "id": "04bb1152",
   "metadata": {},
   "outputs": [
    {
     "name": "stderr",
     "output_type": "stream",
     "text": [
      "C:\\Users\\samata.suresh.naik\\Anaconda3\\lib\\site-packages\\seaborn\\distributions.py:2619: FutureWarning: `distplot` is a deprecated function and will be removed in a future version. Please adapt your code to use either `displot` (a figure-level function with similar flexibility) or `histplot` (an axes-level function for histograms).\n",
      "  warnings.warn(msg, FutureWarning)\n"
     ]
    },
    {
     "data": {
      "text/plain": [
       "[Text(0.5, 0, 'Binomial'), Text(0, 0.5, 'frequency')]"
      ]
     },
     "execution_count": 7,
     "metadata": {},
     "output_type": "execute_result"
    },
    {
     "data": {
      "image/png": "[encoded data removed]",
      "text/plain": [
       "<Figure size 640x480 with 1 Axes>"
      ]
     },
     "metadata": {},
     "output_type": "display_data"
    }
   ],
   "source": [
    "import seaborn as sns\n",
    "from scipy.stats import binom\n",
    "binom.rvs(n=10,p=0.5)\n",
    "binom.rvs(size=5,n=10,p=0.5)\n",
    "data_binom=binom.rvs(n=10,p=0.5,size=10000)\n",
    "ax=sns.distplot(data_binom,kde=False,color='green', hist_kws={\"linewidth\":15,'alpha':1})\n",
    "ax.set(xlabel='Binomial',ylabel='frequency')"
   ]
  },
  {
   "cell_type": "code",
   "execution_count": null,
   "id": "3da8f487",
   "metadata": {},
   "outputs": [],
   "source": []
  }
 ],
 "metadata": {
  "kernelspec": {
   "display_name": "Python 3 (ipykernel)",
   "language": "python",
   "name": "python3"
  },
  "language_info": {
   "codemirror_mode": {
    "name": "ipython",
    "version": 3
   },
   "file_extension": ".py",
   "mimetype": "text/x-python",
   "name": "python",
   "nbconvert_exporter": "python",
   "pygments_lexer": "ipython3",
   "version": "3.9.13"
  }
 },
 "nbformat": 4,
 "nbformat_minor": 5
}
